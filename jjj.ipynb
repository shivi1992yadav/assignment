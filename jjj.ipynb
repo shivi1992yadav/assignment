{
 "cells": [
  {
   "cell_type": "markdown",
   "id": "d36bdc0d-25e1-420d-8705-026836c27050",
   "metadata": {
    "tags": []
   },
   "source": [
    "## l = [1, 2, 3, 4, 5, 6, 71, 31]\n",
    "l1 = []\n",
    "for i in l :\n",
    "    l1.append (i**2)"
   ]
  },
  {
   "cell_type": "code",
   "execution_count": 2,
   "id": "d68b078f-fbd3-4cc4-a188-fd2fce4fbbbd",
   "metadata": {},
   "outputs": [
    {
     "data": {
      "text/plain": [
       "[1, 4, 9, 16, 25, 36, 5041, 961]"
      ]
     },
     "execution_count": 2,
     "metadata": {},
     "output_type": "execute_result"
    }
   ],
   "source": [
    "l1"
   ]
  },
  {
   "cell_type": "code",
   "execution_count": 3,
   "id": "37b82cd8-5466-46bc-bcf5-eb061f1a27c8",
   "metadata": {},
   "outputs": [
    {
     "data": {
      "text/plain": [
       "[1, 2, 3, 4, 5, 6, 71, 31]"
      ]
     },
     "execution_count": 3,
     "metadata": {},
     "output_type": "execute_result"
    }
   ],
   "source": [
    "l"
   ]
  },
  {
   "cell_type": "code",
   "execution_count": 4,
   "id": "4ba9e357-3d3b-41b2-8378-5338f72a30c7",
   "metadata": {},
   "outputs": [
    {
     "data": {
      "text/plain": [
       "[1, 4, 9, 16, 25, 36, 5041, 961]"
      ]
     },
     "execution_count": 4,
     "metadata": {},
     "output_type": "execute_result"
    }
   ],
   "source": [
    "[i**2 for i in l]"
   ]
  },
  {
   "cell_type": "code",
   "execution_count": 5,
   "id": "46a5c84f-6155-4426-a854-a9efe51da9ab",
   "metadata": {},
   "outputs": [
    {
     "data": {
      "text/plain": [
       "[2, 4, 6]"
      ]
     },
     "execution_count": 5,
     "metadata": {},
     "output_type": "execute_result"
    }
   ],
   "source": [
    "[i for i in l if i % 2 == 0]"
   ]
  },
  {
   "cell_type": "code",
   "execution_count": 6,
   "id": "66df3df6-7e84-425e-88c8-9134df3ab8d0",
   "metadata": {},
   "outputs": [],
   "source": [
    "l1 = [\"sudh\", \"pwskills\", \"kumar\", \"data science master\"]"
   ]
  },
  {
   "cell_type": "code",
   "execution_count": 8,
   "id": "4f313277-f961-42c4-93f6-60bc6cf8630f",
   "metadata": {},
   "outputs": [
    {
     "data": {
      "text/plain": [
       "['SUDH', 'PWSKILLS', 'KUMAR', 'DATA SCIENCE MASTER']"
      ]
     },
     "execution_count": 8,
     "metadata": {},
     "output_type": "execute_result"
    }
   ],
   "source": [
    "[i.upper() for i in l1]"
   ]
  },
  {
   "cell_type": "code",
   "execution_count": 9,
   "id": "70c3128f-1ae1-43c6-92dc-75433913a902",
   "metadata": {},
   "outputs": [
    {
     "data": {
      "text/plain": [
       "[1, 2, 3, 4, 5, 6, 71, 31]"
      ]
     },
     "execution_count": 9,
     "metadata": {},
     "output_type": "execute_result"
    }
   ],
   "source": [
    "l"
   ]
  },
  {
   "cell_type": "code",
   "execution_count": 12,
   "id": "52903ddc-fbed-4c96-ab05-281e29846d7b",
   "metadata": {},
   "outputs": [
    {
     "data": {
      "text/plain": [
       "[1, 4, 9, 16, 25, 36, 5041, 961]"
      ]
     },
     "execution_count": 12,
     "metadata": {},
     "output_type": "execute_result"
    }
   ],
   "source": [
    "list(i**2 for i in l)"
   ]
  },
  {
   "cell_type": "code",
   "execution_count": 1,
   "id": "b7701334-e048-43f0-8d28-cd4e5554eab5",
   "metadata": {},
   "outputs": [],
   "source": [
    "d = {\"key 1\":1, \"key 2\":2, \"key 3\":3, \"key 4\":4}"
   ]
  },
  {
   "cell_type": "code",
   "execution_count": 2,
   "id": "03120bae-7441-4bf9-b329-674c40d1132b",
   "metadata": {},
   "outputs": [
    {
     "data": {
      "text/plain": [
       "{'key 1': 1, 'key 2': 4, 'key 3': 9, 'key 4': 16}"
      ]
     },
     "execution_count": 2,
     "metadata": {},
     "output_type": "execute_result"
    }
   ],
   "source": [
    "{k:v**2 for k, v in d.items()}"
   ]
  },
  {
   "cell_type": "code",
   "execution_count": 3,
   "id": "9d6e250e-3188-4b8b-9d96-a43122762797",
   "metadata": {},
   "outputs": [
    {
     "data": {
      "text/plain": [
       "dict_items([('key 1', 1), ('key 2', 2), ('key 3', 3), ('key 4', 4)])"
      ]
     },
     "execution_count": 3,
     "metadata": {},
     "output_type": "execute_result"
    }
   ],
   "source": [
    "d.items()"
   ]
  },
  {
   "cell_type": "code",
   "execution_count": 4,
   "id": "a089b7a8-ce15-4cf8-9314-36a2a206dee0",
   "metadata": {},
   "outputs": [
    {
     "data": {
      "text/plain": [
       "{'key 1': 1, 'key 2': 2, 'key 3': 3, 'key 4': 4}"
      ]
     },
     "execution_count": 4,
     "metadata": {},
     "output_type": "execute_result"
    }
   ],
   "source": [
    "d"
   ]
  },
  {
   "cell_type": "code",
   "execution_count": 1,
   "id": "b7f19ba1-7998-4bd9-94cc-c154f1c33115",
   "metadata": {},
   "outputs": [],
   "source": [
    "def test1 () :\n",
    "    print (\"this is my very very first function\")"
   ]
  },
  {
   "cell_type": "code",
   "execution_count": 2,
   "id": "893ba510-3768-4201-9d2b-dfb404164602",
   "metadata": {},
   "outputs": [
    {
     "name": "stdout",
     "output_type": "stream",
     "text": [
      "this is my very very first function\n"
     ]
    }
   ],
   "source": [
    "test1 ()"
   ]
  },
  {
   "cell_type": "code",
   "execution_count": 4,
   "id": "8c4efc13-8b75-4426-ae9c-54f95cda22aa",
   "metadata": {},
   "outputs": [],
   "source": [
    "def test2 ():\n",
    "    return (\"this is my very first return\")"
   ]
  },
  {
   "cell_type": "code",
   "execution_count": 6,
   "id": "8814715b-a457-448a-a24a-0e23562fcf1b",
   "metadata": {},
   "outputs": [
    {
     "data": {
      "text/plain": [
       "'this is my very first return'"
      ]
     },
     "execution_count": 6,
     "metadata": {},
     "output_type": "execute_result"
    }
   ],
   "source": [
    "test2 ()"
   ]
  },
  {
   "cell_type": "code",
   "execution_count": 8,
   "id": "807aac03-f1cd-481f-8e3b-d9640ffab477",
   "metadata": {},
   "outputs": [
    {
     "data": {
      "text/plain": [
       "'this is my very first returnsudh'"
      ]
     },
     "execution_count": 8,
     "metadata": {},
     "output_type": "execute_result"
    }
   ],
   "source": [
    "test2 () + \"sudh\""
   ]
  },
  {
   "cell_type": "code",
   "execution_count": 9,
   "id": "5defe7cf-ecb5-4236-8783-c56bb9d74967",
   "metadata": {},
   "outputs": [],
   "source": [
    "def test3 ():\n",
    "    return \"sudh\", 23, 345.65, [1,2,3,4,5]"
   ]
  },
  {
   "cell_type": "code",
   "execution_count": 10,
   "id": "0db809e0-610d-4ca0-9db2-395a27a9b8a9",
   "metadata": {},
   "outputs": [
    {
     "data": {
      "text/plain": [
       "('sudh', 23, 345.65, [1, 2, 3, 4, 5])"
      ]
     },
     "execution_count": 10,
     "metadata": {},
     "output_type": "execute_result"
    }
   ],
   "source": [
    "test3 ()"
   ]
  },
  {
   "cell_type": "code",
   "execution_count": 11,
   "id": "1bd175c8-614a-46f6-804b-1df3721142e8",
   "metadata": {},
   "outputs": [],
   "source": [
    "a,b,c,d = test3 ()"
   ]
  },
  {
   "cell_type": "code",
   "execution_count": 12,
   "id": "db581dda-0c31-40f9-9efc-6e685732bf57",
   "metadata": {},
   "outputs": [
    {
     "data": {
      "text/plain": [
       "'sudh'"
      ]
     },
     "execution_count": 12,
     "metadata": {},
     "output_type": "execute_result"
    }
   ],
   "source": [
    "a"
   ]
  },
  {
   "cell_type": "code",
   "execution_count": 13,
   "id": "a1989314-f09d-4b9b-9bc4-591c0da27837",
   "metadata": {},
   "outputs": [
    {
     "data": {
      "text/plain": [
       "23"
      ]
     },
     "execution_count": 13,
     "metadata": {},
     "output_type": "execute_result"
    }
   ],
   "source": [
    "b"
   ]
  },
  {
   "cell_type": "code",
   "execution_count": 14,
   "id": "33d26dfa-d4cd-427f-8db7-a655907481ad",
   "metadata": {},
   "outputs": [
    {
     "data": {
      "text/plain": [
       "345.65"
      ]
     },
     "execution_count": 14,
     "metadata": {},
     "output_type": "execute_result"
    }
   ],
   "source": [
    "c"
   ]
  },
  {
   "cell_type": "code",
   "execution_count": 15,
   "id": "bff3da32-36c8-4bad-a869-f06cd84ba2f7",
   "metadata": {},
   "outputs": [
    {
     "data": {
      "text/plain": [
       "[1, 2, 3, 4, 5]"
      ]
     },
     "execution_count": 15,
     "metadata": {},
     "output_type": "execute_result"
    }
   ],
   "source": [
    "d"
   ]
  },
  {
   "cell_type": "code",
   "execution_count": 16,
   "id": "0332a8b8-1d05-410c-92d4-c286a2a91f63",
   "metadata": {},
   "outputs": [],
   "source": [
    "def test4 ():\n",
    "    a = 5+6/7\n",
    "    return a"
   ]
  },
  {
   "cell_type": "code",
   "execution_count": 17,
   "id": "b8b58018-0947-4c2e-a53f-f2df59c03e67",
   "metadata": {},
   "outputs": [
    {
     "data": {
      "text/plain": [
       "5.857142857142857"
      ]
     },
     "execution_count": 17,
     "metadata": {},
     "output_type": "execute_result"
    }
   ],
   "source": [
    "test4()"
   ]
  },
  {
   "cell_type": "code",
   "execution_count": 18,
   "id": "80a84510-b8b1-4801-83dd-3b1cf98c7e43",
   "metadata": {},
   "outputs": [],
   "source": [
    "def test5 (a,b,c):\n",
    "    d = a+b/c\n",
    "    return d"
   ]
  },
  {
   "cell_type": "code",
   "execution_count": 21,
   "id": "ddf250a6-f6ad-4b85-9217-e295673abae1",
   "metadata": {},
   "outputs": [
    {
     "ename": "TypeError",
     "evalue": "test5() missing 3 required positional arguments: 'a', 'b', and 'c'",
     "output_type": "error",
     "traceback": [
      "\u001b[0;31m---------------------------------------------------------------------------\u001b[0m",
      "\u001b[0;31mTypeError\u001b[0m                                 Traceback (most recent call last)",
      "Cell \u001b[0;32mIn[21], line 1\u001b[0m\n\u001b[0;32m----> 1\u001b[0m \u001b[43mtest5\u001b[49m\u001b[43m \u001b[49m\u001b[43m(\u001b[49m\u001b[43m)\u001b[49m\n",
      "\u001b[0;31mTypeError\u001b[0m: test5() missing 3 required positional arguments: 'a', 'b', and 'c'"
     ]
    }
   ],
   "source": [
    "test5 ()"
   ]
  },
  {
   "cell_type": "code",
   "execution_count": 22,
   "id": "c4891453-2062-43ae-a510-679d397d68fd",
   "metadata": {},
   "outputs": [
    {
     "data": {
      "text/plain": [
       "2.625"
      ]
     },
     "execution_count": 22,
     "metadata": {},
     "output_type": "execute_result"
    }
   ],
   "source": [
    "test5 (2,5,8)"
   ]
  },
  {
   "cell_type": "code",
   "execution_count": 23,
   "id": "4af8af47-9538-465f-a1ac-f507d3aac80e",
   "metadata": {},
   "outputs": [],
   "source": [
    "def test6 (a,b):\n",
    "    return a+b"
   ]
  },
  {
   "cell_type": "code",
   "execution_count": 25,
   "id": "00621fc9-0afc-4103-bea0-e0ec4c8c1c79",
   "metadata": {},
   "outputs": [
    {
     "data": {
      "text/plain": [
       "7"
      ]
     },
     "execution_count": 25,
     "metadata": {},
     "output_type": "execute_result"
    }
   ],
   "source": [
    "test6 (3,4)"
   ]
  },
  {
   "cell_type": "code",
   "execution_count": 26,
   "id": "ea544f52-65ee-428f-8b0f-94181e1afe53",
   "metadata": {},
   "outputs": [
    {
     "data": {
      "text/plain": [
       "'sudhkumar'"
      ]
     },
     "execution_count": 26,
     "metadata": {},
     "output_type": "execute_result"
    }
   ],
   "source": [
    "test6 (\"sudh\", \"kumar\")"
   ]
  },
  {
   "cell_type": "code",
   "execution_count": 28,
   "id": "7fa991fb-26d7-4acf-bad5-326572e1066b",
   "metadata": {},
   "outputs": [
    {
     "data": {
      "text/plain": [
       "[1, 2, 3, 4, 5, 6, 7, 8]"
      ]
     },
     "execution_count": 28,
     "metadata": {},
     "output_type": "execute_result"
    }
   ],
   "source": [
    "test6 ([1,2,3,4,] , [5,6,7,8])"
   ]
  },
  {
   "cell_type": "code",
   "execution_count": 29,
   "id": "42f2ac70-2adc-45e4-a018-da31541de778",
   "metadata": {},
   "outputs": [],
   "source": [
    "l = [\"sudh\", \"kumar\", 1,2,3,4, [5,6,7,8] ]"
   ]
  },
  {
   "cell_type": "code",
   "execution_count": 30,
   "id": "21bca41a-8963-4d3c-be05-33f0bd06ebd7",
   "metadata": {},
   "outputs": [
    {
     "data": {
      "text/plain": [
       "['sudh', 'kumar', 1, 2, 3, 4, [5, 6, 7, 8]]"
      ]
     },
     "execution_count": 30,
     "metadata": {},
     "output_type": "execute_result"
    }
   ],
   "source": [
    "l"
   ]
  },
  {
   "cell_type": "code",
   "execution_count": 31,
   "id": "9fdf4fb5-d1e7-4ad9-9a6e-f952d8b5625c",
   "metadata": {},
   "outputs": [],
   "source": [
    "l1 = []\n",
    "for i in l :\n",
    "    if type (i) == int or type (i) == float:\n",
    "        l1.append (i)"
   ]
  },
  {
   "cell_type": "code",
   "execution_count": 32,
   "id": "91a5589d-5190-412c-b1f1-844fccc71450",
   "metadata": {},
   "outputs": [
    {
     "data": {
      "text/plain": [
       "[1, 2, 3, 4]"
      ]
     },
     "execution_count": 32,
     "metadata": {},
     "output_type": "execute_result"
    }
   ],
   "source": [
    "l1"
   ]
  },
  {
   "cell_type": "code",
   "execution_count": 36,
   "id": "baf92a18-0df4-4fc9-ad7b-a8e502d1961b",
   "metadata": {},
   "outputs": [],
   "source": [
    "def test7 (l):\n",
    "    l1 = []\n",
    "    for i in l :\n",
    "        if type (i) == int or type (i) == float:\n",
    "            l1.append (i) \n",
    "    return l1"
   ]
  },
  {
   "cell_type": "code",
   "execution_count": 37,
   "id": "c7333f49-8e9f-4e87-be41-e5228e5c1ff8",
   "metadata": {},
   "outputs": [
    {
     "data": {
      "text/plain": [
       "[1, 2, 3, 4]"
      ]
     },
     "execution_count": 37,
     "metadata": {},
     "output_type": "execute_result"
    }
   ],
   "source": [
    "test7 (l)"
   ]
  },
  {
   "cell_type": "code",
   "execution_count": 50,
   "id": "c1c3c973-ac72-492e-a2eb-eaed522d2319",
   "metadata": {},
   "outputs": [],
   "source": [
    "def test8(a):\n",
    "    l = []\n",
    "    for i in a:\n",
    "        if type(i) == list:\n",
    "            for j in i:\n",
    "                l.append (j)\n",
    "                    \n",
    "        else:\n",
    "            if type(i) == int or type (i) == float :\n",
    "                l.append (i)\n",
    "                return l "
   ]
  },
  {
   "cell_type": "code",
   "execution_count": 52,
   "id": "4483fe1d-e56e-4cee-8d8a-6fa14e6cf33e",
   "metadata": {},
   "outputs": [
    {
     "data": {
      "text/plain": [
       "[1]"
      ]
     },
     "execution_count": 52,
     "metadata": {},
     "output_type": "execute_result"
    }
   ],
   "source": [
    "test8 (l)"
   ]
  },
  {
   "cell_type": "code",
   "execution_count": 1,
   "id": "61ddf746-2aa1-4dc9-acda-6ff084e0ee9d",
   "metadata": {},
   "outputs": [],
   "source": [
    "def test9(a):\n",
    "    \"\"\" this is my function to extract my num data from list\"\"\"\n",
    "    l = []\n",
    "    for i in a:\n",
    "        if type(i) == list:\n",
    "            for j in i:\n",
    "                l.append (j)\n",
    "                    \n",
    "        else:\n",
    "            if type(i) == int or type (i) == float :\n",
    "                l.append (i)\n",
    "                return l"
   ]
  },
  {
   "cell_type": "code",
   "execution_count": 6,
   "id": "01cca113-058f-4ee2-a4fa-30f8cc15ec3c",
   "metadata": {},
   "outputs": [],
   "source": [
    "def test10 (a,b):\n",
    "    return a+b"
   ]
  },
  {
   "cell_type": "code",
   "execution_count": 7,
   "id": "a3d669b9-0635-4ce5-b2c7-c9b65479c0d3",
   "metadata": {},
   "outputs": [],
   "source": [
    "def test11 (*args):\n",
    "    return args"
   ]
  },
  {
   "cell_type": "code",
   "execution_count": 9,
   "id": "05cd2d9c-978e-4098-9b7d-d0b539cfded0",
   "metadata": {},
   "outputs": [
    {
     "data": {
      "text/plain": [
       "tuple"
      ]
     },
     "execution_count": 9,
     "metadata": {},
     "output_type": "execute_result"
    }
   ],
   "source": [
    "type ((test11 ()))"
   ]
  },
  {
   "cell_type": "code",
   "execution_count": 10,
   "id": "2643ef4a-4c0f-4100-9f00-dc5769d966f8",
   "metadata": {},
   "outputs": [
    {
     "data": {
      "text/plain": [
       "(1, 2, 3)"
      ]
     },
     "execution_count": 10,
     "metadata": {},
     "output_type": "execute_result"
    }
   ],
   "source": [
    "test11 (1,2,3)"
   ]
  },
  {
   "cell_type": "code",
   "execution_count": 11,
   "id": "d24a2f7b-c33f-479d-a5c8-e853203dc019",
   "metadata": {},
   "outputs": [],
   "source": [
    "def test13 (*args, a):\n",
    "    return args, a"
   ]
  },
  {
   "cell_type": "code",
   "execution_count": 12,
   "id": "df38af90-b4c7-4567-83bb-17905b54d53e",
   "metadata": {},
   "outputs": [
    {
     "ename": "TypeError",
     "evalue": "test13() missing 1 required keyword-only argument: 'a'",
     "output_type": "error",
     "traceback": [
      "\u001b[0;31m---------------------------------------------------------------------------\u001b[0m",
      "\u001b[0;31mTypeError\u001b[0m                                 Traceback (most recent call last)",
      "Cell \u001b[0;32mIn[12], line 1\u001b[0m\n\u001b[0;32m----> 1\u001b[0m \u001b[43mtest13\u001b[49m\u001b[43m \u001b[49m\u001b[43m(\u001b[49m\u001b[38;5;241;43m1\u001b[39;49m\u001b[43m,\u001b[49m\u001b[38;5;241;43m2\u001b[39;49m\u001b[43m,\u001b[49m\u001b[38;5;241;43m3\u001b[39;49m\u001b[43m,\u001b[49m\u001b[38;5;241;43m4\u001b[39;49m\u001b[43m)\u001b[49m\n",
      "\u001b[0;31mTypeError\u001b[0m: test13() missing 1 required keyword-only argument: 'a'"
     ]
    }
   ],
   "source": [
    "test13 (1,2,3,4)"
   ]
  },
  {
   "cell_type": "code",
   "execution_count": 13,
   "id": "0277530f-9808-40f6-9ce5-027de93b8ebf",
   "metadata": {},
   "outputs": [
    {
     "data": {
      "text/plain": [
       "((1, 2, 3, 4), 24)"
      ]
     },
     "execution_count": 13,
     "metadata": {},
     "output_type": "execute_result"
    }
   ],
   "source": [
    "test13 (1,2,3,4, a = 24)"
   ]
  },
  {
   "cell_type": "code",
   "execution_count": 14,
   "id": "9590eaca-9f68-4a44-8274-3f931de4fa92",
   "metadata": {},
   "outputs": [],
   "source": [
    "def test14 (c, d, a = 23, b = 1):\n",
    "    return a, b, c, d"
   ]
  },
  {
   "cell_type": "code",
   "execution_count": 16,
   "id": "aae14770-1d4f-4ced-b09b-8bf2d331c6a2",
   "metadata": {},
   "outputs": [
    {
     "data": {
      "text/plain": [
       "(23, 1, 3, 4)"
      ]
     },
     "execution_count": 16,
     "metadata": {},
     "output_type": "execute_result"
    }
   ],
   "source": [
    "test14 (3, 4)"
   ]
  },
  {
   "cell_type": "code",
   "execution_count": 4,
   "id": "8d001609-3662-45d7-bcbb-4e0fa2d322e6",
   "metadata": {},
   "outputs": [],
   "source": [
    "def test14 (c, d, a = 23, b = 1):\n",
    "    return a, b, c, d"
   ]
  },
  {
   "cell_type": "code",
   "execution_count": 5,
   "id": "c6030e2e-44a4-4312-a456-2154e836d940",
   "metadata": {},
   "outputs": [
    {
     "data": {
      "text/plain": [
       "(23, 1, 3, 4)"
      ]
     },
     "execution_count": 5,
     "metadata": {},
     "output_type": "execute_result"
    }
   ],
   "source": [
    "test14 (3,4)"
   ]
  },
  {
   "cell_type": "code",
   "execution_count": 6,
   "id": "7de7bd12-bef9-4162-8fbc-6c76be882051",
   "metadata": {},
   "outputs": [
    {
     "data": {
      "text/plain": [
       "(2342, 1, 2, 5)"
      ]
     },
     "execution_count": 6,
     "metadata": {},
     "output_type": "execute_result"
    }
   ],
   "source": [
    "test14 (2,5, a = 2342)"
   ]
  },
  {
   "cell_type": "code",
   "execution_count": 8,
   "id": "8a4ba63f-73d2-4864-ad58-a9689e9dd0fb",
   "metadata": {},
   "outputs": [],
   "source": [
    "def test15 (**kwargs):\n",
    "    return kwargs"
   ]
  },
  {
   "cell_type": "code",
   "execution_count": 9,
   "id": "faee21b3-4b45-4722-95c3-70b86cc6f57c",
   "metadata": {},
   "outputs": [
    {
     "data": {
      "text/plain": [
       "{'a': [1, 2, 3, 4], 'b': 'sudh', 'c': 23.45}"
      ]
     },
     "execution_count": 9,
     "metadata": {},
     "output_type": "execute_result"
    }
   ],
   "source": [
    "test15 (a = [1,2,3,4], b = \"sudh\", c = 23.45)"
   ]
  },
  {
   "cell_type": "markdown",
   "id": "7ee4dc21-e3d5-4fe6-a29b-ba15bbdbd25f",
   "metadata": {},
   "source": [
    "#generator function"
   ]
  },
  {
   "cell_type": "code",
   "execution_count": 1,
   "id": "4f753361-3b93-4de2-8a15-d135496553db",
   "metadata": {},
   "outputs": [],
   "source": [
    "def test_fib(n):\n",
    "    a,b = 0,1\n",
    "    for i in range (n):\n",
    "        yield a\n",
    "        a,b = b,a+b"
   ]
  },
  {
   "cell_type": "code",
   "execution_count": 3,
   "id": "db0a796f-2a09-4a45-8289-c7795beab4aa",
   "metadata": {},
   "outputs": [
    {
     "name": "stdout",
     "output_type": "stream",
     "text": [
      "0\n",
      "1\n",
      "1\n",
      "2\n",
      "3\n",
      "5\n",
      "8\n",
      "13\n",
      "21\n",
      "34\n"
     ]
    }
   ],
   "source": [
    "for i in test_fib(10):\n",
    "    print (i)"
   ]
  },
  {
   "cell_type": "code",
   "execution_count": 4,
   "id": "00d6809d-f958-40d6-b760-5e3bf987ea2a",
   "metadata": {},
   "outputs": [],
   "source": [
    "def test_fib1 ():\n",
    "    a,b = 0,1\n",
    "    while True:\n",
    "        yield a\n",
    "        a,b = b,a+b"
   ]
  },
  {
   "cell_type": "code",
   "execution_count": 5,
   "id": "5b6228d5-5917-4651-9ee3-de466f64f0a4",
   "metadata": {},
   "outputs": [],
   "source": [
    "fib = test_fib1()"
   ]
  },
  {
   "cell_type": "code",
   "execution_count": 6,
   "id": "90cc9f72-fcb0-4771-be10-1dba2c270993",
   "metadata": {},
   "outputs": [
    {
     "name": "stdout",
     "output_type": "stream",
     "text": [
      "0\n",
      "1\n",
      "1\n",
      "2\n",
      "3\n",
      "5\n",
      "8\n",
      "13\n",
      "21\n",
      "34\n"
     ]
    }
   ],
   "source": [
    "for i in range (10):\n",
    "    print (next(fib))"
   ]
  },
  {
   "cell_type": "code",
   "execution_count": 7,
   "id": "7f9aabe4-44e9-4d56-9cc5-5b1f93e85965",
   "metadata": {},
   "outputs": [],
   "source": [
    "s=\"sudh\""
   ]
  },
  {
   "cell_type": "code",
   "execution_count": 8,
   "id": "7289a887-533e-4412-b5ae-1052ce35eeb7",
   "metadata": {},
   "outputs": [
    {
     "name": "stdout",
     "output_type": "stream",
     "text": [
      "s\n",
      "u\n",
      "d\n",
      "h\n"
     ]
    }
   ],
   "source": [
    "for i in s:\n",
    "    print (i)"
   ]
  },
  {
   "cell_type": "code",
   "execution_count": 10,
   "id": "9e6ab76c-b843-4578-a610-744f0fb1a557",
   "metadata": {},
   "outputs": [],
   "source": [
    "s1 = iter(s)"
   ]
  },
  {
   "cell_type": "code",
   "execution_count": 11,
   "id": "efbae01f-0d76-4c2d-ac3f-025b72411495",
   "metadata": {},
   "outputs": [
    {
     "data": {
      "text/plain": [
       "'s'"
      ]
     },
     "execution_count": 11,
     "metadata": {},
     "output_type": "execute_result"
    }
   ],
   "source": [
    "next(s1)"
   ]
  },
  {
   "cell_type": "code",
   "execution_count": 13,
   "id": "82225bd8-5725-4395-9883-31b10f46c599",
   "metadata": {},
   "outputs": [
    {
     "data": {
      "text/plain": [
       "'u'"
      ]
     },
     "execution_count": 13,
     "metadata": {},
     "output_type": "execute_result"
    }
   ],
   "source": [
    "next(s1)"
   ]
  },
  {
   "cell_type": "code",
   "execution_count": 14,
   "id": "5f3a5bbb-669c-47e5-8e17-90e176feb0f0",
   "metadata": {},
   "outputs": [
    {
     "data": {
      "text/plain": [
       "'d'"
      ]
     },
     "execution_count": 14,
     "metadata": {},
     "output_type": "execute_result"
    }
   ],
   "source": [
    "next (s1)"
   ]
  },
  {
   "cell_type": "code",
   "execution_count": 15,
   "id": "450b7864-96d1-41d1-a113-a4bf9ea9fd0c",
   "metadata": {},
   "outputs": [
    {
     "data": {
      "text/plain": [
       "'h'"
      ]
     },
     "execution_count": 15,
     "metadata": {},
     "output_type": "execute_result"
    }
   ],
   "source": [
    "next (s1)"
   ]
  },
  {
   "cell_type": "code",
   "execution_count": 16,
   "id": "f3f8e00b-6d99-421b-9275-ba245a2cfc8c",
   "metadata": {},
   "outputs": [],
   "source": [
    "def count_test (n):\n",
    "    count = 1\n",
    "    while count <= n:\n",
    "        yield count\n",
    "        count = count + 1"
   ]
  },
  {
   "cell_type": "code",
   "execution_count": 17,
   "id": "158ed339-bc8c-4025-a65b-5631497785a0",
   "metadata": {},
   "outputs": [],
   "source": [
    "c = count_test (5)"
   ]
  },
  {
   "cell_type": "code",
   "execution_count": 18,
   "id": "a1d3572c-5cf9-404d-9e1e-a08b22214a3f",
   "metadata": {},
   "outputs": [
    {
     "data": {
      "text/plain": [
       "generator"
      ]
     },
     "execution_count": 18,
     "metadata": {},
     "output_type": "execute_result"
    }
   ],
   "source": [
    "type(c)"
   ]
  },
  {
   "cell_type": "code",
   "execution_count": 19,
   "id": "6d7e0c72-917f-4549-a7f3-3b9b5f7849d9",
   "metadata": {},
   "outputs": [
    {
     "name": "stdout",
     "output_type": "stream",
     "text": [
      "1\n",
      "2\n",
      "3\n",
      "4\n",
      "5\n"
     ]
    }
   ],
   "source": [
    "for i in c :\n",
    "    print (i)"
   ]
  },
  {
   "cell_type": "markdown",
   "id": "5dbe17b1-2842-4a94-b752-7d2973277931",
   "metadata": {},
   "source": [
    "#lambda function"
   ]
  },
  {
   "cell_type": "code",
   "execution_count": 21,
   "id": "dcc1535e-be20-4a0d-a8b4-6f0dcbd0dc4f",
   "metadata": {},
   "outputs": [],
   "source": [
    "n = 3\n",
    "p = 2"
   ]
  },
  {
   "cell_type": "code",
   "execution_count": 22,
   "id": "43b05f38-d2c6-4db3-ae38-2bf4a2c9e804",
   "metadata": {},
   "outputs": [],
   "source": [
    "def test (n,p) : \n",
    "    return n**p"
   ]
  },
  {
   "cell_type": "code",
   "execution_count": 23,
   "id": "300d0671-b03c-4d42-8a3d-0b188b99b584",
   "metadata": {},
   "outputs": [
    {
     "data": {
      "text/plain": [
       "9"
      ]
     },
     "execution_count": 23,
     "metadata": {},
     "output_type": "execute_result"
    }
   ],
   "source": [
    "test (3,2)"
   ]
  },
  {
   "cell_type": "code",
   "execution_count": 24,
   "id": "780e8024-715a-4581-b8cb-f9d2134f4cc3",
   "metadata": {},
   "outputs": [
    {
     "data": {
      "text/plain": [
       "<function __main__.<lambda>(n, p)>"
      ]
     },
     "execution_count": 24,
     "metadata": {},
     "output_type": "execute_result"
    }
   ],
   "source": [
    "lambda n, p : n**p"
   ]
  },
  {
   "cell_type": "code",
   "execution_count": 25,
   "id": "34d41864-449a-40d3-b567-abb6ee2067d0",
   "metadata": {},
   "outputs": [
    {
     "data": {
      "text/plain": [
       "9"
      ]
     },
     "execution_count": 25,
     "metadata": {},
     "output_type": "execute_result"
    }
   ],
   "source": [
    "a = lambda n,p : n**p\n",
    "a (3, 2)"
   ]
  },
  {
   "cell_type": "code",
   "execution_count": 26,
   "id": "7a883d8c-76e6-4173-a9fb-bb8638291cec",
   "metadata": {},
   "outputs": [],
   "source": [
    "c_to_f = lambda c: (9/5)* c+32"
   ]
  },
  {
   "cell_type": "code",
   "execution_count": 27,
   "id": "31e12420-79ce-4e4a-b2c8-c9c91817d832",
   "metadata": {},
   "outputs": [
    {
     "data": {
      "text/plain": [
       "113.0"
      ]
     },
     "execution_count": 27,
     "metadata": {},
     "output_type": "execute_result"
    }
   ],
   "source": [
    "c_to_f(45)"
   ]
  },
  {
   "cell_type": "code",
   "execution_count": 28,
   "id": "4271f4b2-dd14-41cf-9713-29303b359982",
   "metadata": {},
   "outputs": [],
   "source": [
    "finding_max = lambda x, y : x if x > y else y"
   ]
  },
  {
   "cell_type": "code",
   "execution_count": 29,
   "id": "6924d860-78ad-46fb-9ace-5be0d57b4998",
   "metadata": {},
   "outputs": [
    {
     "data": {
      "text/plain": [
       "34"
      ]
     },
     "execution_count": 29,
     "metadata": {},
     "output_type": "execute_result"
    }
   ],
   "source": [
    "finding_max (34, 23)"
   ]
  },
  {
   "cell_type": "code",
   "execution_count": 30,
   "id": "60c2193f-c787-4cde-bb33-c3ec2d674c81",
   "metadata": {},
   "outputs": [],
   "source": [
    "s = \"pwskills\""
   ]
  },
  {
   "cell_type": "code",
   "execution_count": 31,
   "id": "0196241d-2e61-40c8-9f47-41ec459a109b",
   "metadata": {},
   "outputs": [],
   "source": [
    "find_len = lambda s: len (s)"
   ]
  },
  {
   "cell_type": "code",
   "execution_count": 32,
   "id": "26c58170-fcb9-46cf-bcf3-e7b896f53d64",
   "metadata": {},
   "outputs": [
    {
     "data": {
      "text/plain": [
       "8"
      ]
     },
     "execution_count": 32,
     "metadata": {},
     "output_type": "execute_result"
    }
   ],
   "source": [
    "find_len (s)"
   ]
  },
  {
   "cell_type": "markdown",
   "id": "c357e65d-6c02-440f-b345-3a6ee1dd07bf",
   "metadata": {},
   "source": [
    "#Map, Reduce and Filter Function"
   ]
  },
  {
   "cell_type": "code",
   "execution_count": 1,
   "id": "1d70293c-be97-46c1-9889-05741940675a",
   "metadata": {},
   "outputs": [],
   "source": [
    "l = [2,3,4,5,6]"
   ]
  },
  {
   "cell_type": "code",
   "execution_count": 2,
   "id": "961b4ae8-a616-4ebf-9569-f79d708b84fb",
   "metadata": {},
   "outputs": [],
   "source": [
    "def test (l):\n",
    "    l1 = []\n",
    "    for i in l :\n",
    "        l1.append (i**2)\n",
    "    return l1"
   ]
  },
  {
   "cell_type": "code",
   "execution_count": 5,
   "id": "51b2efd5-7bad-43ea-9734-fe32f6e4183c",
   "metadata": {},
   "outputs": [
    {
     "data": {
      "text/plain": [
       "[4]"
      ]
     },
     "execution_count": 5,
     "metadata": {},
     "output_type": "execute_result"
    }
   ],
   "source": [
    "test(l)"
   ]
  },
  {
   "cell_type": "code",
   "execution_count": 6,
   "id": "60858213-95ab-465d-9207-5d1556fe5c84",
   "metadata": {},
   "outputs": [],
   "source": [
    "def sq (x) :\n",
    "    return x**2"
   ]
  },
  {
   "cell_type": "code",
   "execution_count": 7,
   "id": "557ee184-2b8d-4b91-abb8-b2fa91270e90",
   "metadata": {},
   "outputs": [
    {
     "data": {
      "text/plain": [
       "[4, 9, 16, 25, 36]"
      ]
     },
     "execution_count": 7,
     "metadata": {},
     "output_type": "execute_result"
    }
   ],
   "source": [
    "list (map(sq, l))"
   ]
  },
  {
   "cell_type": "code",
   "execution_count": 9,
   "id": "fb3a138e-c78b-4bf8-962e-0242f9a1fb3b",
   "metadata": {},
   "outputs": [
    {
     "data": {
      "text/plain": [
       "[4, 9, 16, 25, 36]"
      ]
     },
     "execution_count": 9,
     "metadata": {},
     "output_type": "execute_result"
    }
   ],
   "source": [
    "list (map(lambda x:x**2, l))"
   ]
  },
  {
   "cell_type": "code",
   "execution_count": 13,
   "id": "0f6ebcaf-6c85-4dc2-9a44-b11426ba49ac",
   "metadata": {},
   "outputs": [
    {
     "data": {
      "text/plain": [
       "[7, 9, 11, 13, 15]"
      ]
     },
     "execution_count": 13,
     "metadata": {},
     "output_type": "execute_result"
    }
   ],
   "source": [
    "l1 = [1,2,3,4,5]\n",
    "l2 = [6,7,8,9,10]\n",
    "\n",
    "list(map(lambda x , y : x + y, l1, l2))"
   ]
  },
  {
   "cell_type": "code",
   "execution_count": 14,
   "id": "5b00c771-a211-4847-ac77-26827cef5d1f",
   "metadata": {},
   "outputs": [],
   "source": [
    "def add (x , y) :\n",
    "    return x+y"
   ]
  },
  {
   "cell_type": "code",
   "execution_count": 16,
   "id": "df92f292-21ec-4125-a662-f3b0a53ac188",
   "metadata": {},
   "outputs": [
    {
     "data": {
      "text/plain": [
       "[7, 9, 11, 13, 15]"
      ]
     },
     "execution_count": 16,
     "metadata": {},
     "output_type": "execute_result"
    }
   ],
   "source": [
    "list (map(add, l1 , l2))"
   ]
  },
  {
   "cell_type": "code",
   "execution_count": 17,
   "id": "353b7d2f-9a3f-48b5-a91f-e03217446983",
   "metadata": {},
   "outputs": [
    {
     "data": {
      "text/plain": [
       "['P', 'W', 'S', 'K', 'I', 'L', 'L', 'S']"
      ]
     },
     "execution_count": 17,
     "metadata": {},
     "output_type": "execute_result"
    }
   ],
   "source": [
    "s = \"pwskills\"\n",
    "list (map(lambda s: s.upper(), s))"
   ]
  },
  {
   "cell_type": "markdown",
   "id": "4dc91aeb-d1cb-414f-9461-0b4358850eef",
   "metadata": {},
   "source": [
    "#Reduce function"
   ]
  },
  {
   "cell_type": "code",
   "execution_count": 1,
   "id": "3023f209-7b49-476f-a818-b6194c933b1c",
   "metadata": {},
   "outputs": [],
   "source": [
    "from functools import reduce"
   ]
  },
  {
   "cell_type": "code",
   "execution_count": 2,
   "id": "d4bb167f-e0f6-4709-9301-2516a60e41f9",
   "metadata": {},
   "outputs": [],
   "source": [
    "l = [1, 2, 3, 4, 5, 6]"
   ]
  },
  {
   "cell_type": "code",
   "execution_count": 3,
   "id": "72cb1ce1-7ea0-4880-aa90-8db1bb6f3128",
   "metadata": {},
   "outputs": [
    {
     "data": {
      "text/plain": [
       "21"
      ]
     },
     "execution_count": 3,
     "metadata": {},
     "output_type": "execute_result"
    }
   ],
   "source": [
    "reduce (lambda x,y : x+y, l)"
   ]
  },
  {
   "cell_type": "code",
   "execution_count": 4,
   "id": "25403165-3bd2-4163-9e8b-00d7cbb1da53",
   "metadata": {},
   "outputs": [
    {
     "data": {
      "text/plain": [
       "720"
      ]
     },
     "execution_count": 4,
     "metadata": {},
     "output_type": "execute_result"
    }
   ],
   "source": [
    "reduce (lambda x,y : x*y, l)"
   ]
  },
  {
   "cell_type": "code",
   "execution_count": 5,
   "id": "c395bd5d-4b4e-44ce-9422-79d417d26ee1",
   "metadata": {},
   "outputs": [
    {
     "data": {
      "text/plain": [
       "6"
      ]
     },
     "execution_count": 5,
     "metadata": {},
     "output_type": "execute_result"
    }
   ],
   "source": [
    "reduce (lambda x,y : x if x>y else y, l)"
   ]
  },
  {
   "cell_type": "markdown",
   "id": "3b438aec-2b3c-46ba-bed4-80378f7e31d6",
   "metadata": {},
   "source": [
    "#filter function "
   ]
  },
  {
   "cell_type": "code",
   "execution_count": 6,
   "id": "50766224-1a24-40e9-8a20-6dc403078edd",
   "metadata": {},
   "outputs": [
    {
     "data": {
      "text/plain": [
       "[1, 2, 3, 4, 5, 6]"
      ]
     },
     "execution_count": 6,
     "metadata": {},
     "output_type": "execute_result"
    }
   ],
   "source": [
    "l"
   ]
  },
  {
   "cell_type": "code",
   "execution_count": 7,
   "id": "3ac54493-51cf-4f43-830e-ce00de2a113e",
   "metadata": {},
   "outputs": [
    {
     "data": {
      "text/plain": [
       "[2, 4, 6]"
      ]
     },
     "execution_count": 7,
     "metadata": {},
     "output_type": "execute_result"
    }
   ],
   "source": [
    "list (filter (lambda x: x%2 ==0, l))"
   ]
  },
  {
   "cell_type": "code",
   "execution_count": 9,
   "id": "cdcc1b3c-21d3-4fba-bd06-75dee6f77b39",
   "metadata": {},
   "outputs": [
    {
     "data": {
      "text/plain": [
       "[1, 3, 5]"
      ]
     },
     "execution_count": 9,
     "metadata": {},
     "output_type": "execute_result"
    }
   ],
   "source": [
    "list (filter (lambda x: x%2 !=0, l))"
   ]
  },
  {
   "cell_type": "code",
   "execution_count": 10,
   "id": "11de03ef-e7c7-424c-9030-f05599d8e829",
   "metadata": {},
   "outputs": [],
   "source": [
    "l1 = [-3, 4, 5, 6, -1, -5]"
   ]
  },
  {
   "cell_type": "code",
   "execution_count": 11,
   "id": "6f0d8e3d-398c-4c80-ac32-97fc62718917",
   "metadata": {},
   "outputs": [
    {
     "data": {
      "text/plain": [
       "[-3, -1, -5]"
      ]
     },
     "execution_count": 11,
     "metadata": {},
     "output_type": "execute_result"
    }
   ],
   "source": [
    "list (filter(lambda x: x<0, l1))"
   ]
  },
  {
   "cell_type": "code",
   "execution_count": 12,
   "id": "d0aef589-2d72-4f7b-b8a3-5615a5ad89d2",
   "metadata": {},
   "outputs": [],
   "source": [
    "l2 = [\"sudh\", \"pwskills\", \"kumar\", \"bangalore\", \"krish\"]"
   ]
  },
  {
   "cell_type": "code",
   "execution_count": 14,
   "id": "81992c10-2f08-4035-bfef-4d41a6bf434b",
   "metadata": {},
   "outputs": [
    {
     "data": {
      "text/plain": [
       "['pwskills', 'bangalore']"
      ]
     },
     "execution_count": 14,
     "metadata": {},
     "output_type": "execute_result"
    }
   ],
   "source": [
    "list (filter(lambda x:len(x) >6, l2))"
   ]
  },
  {
   "cell_type": "code",
   "execution_count": 15,
   "id": "94e3cd1d-cef3-4edf-a645-c648e7b3e23e",
   "metadata": {},
   "outputs": [
    {
     "data": {
      "text/plain": [
       "['sudh', 'kumar', 'krish']"
      ]
     },
     "execution_count": 15,
     "metadata": {},
     "output_type": "execute_result"
    }
   ],
   "source": [
    "list (filter(lambda x:len(x) <6, l2))"
   ]
  },
  {
   "cell_type": "code",
   "execution_count": null,
   "id": "4580472c-7d83-47c2-ba85-4acfdf49e3f5",
   "metadata": {},
   "outputs": [],
   "source": []
  }
 ],
 "metadata": {
  "kernelspec": {
   "display_name": "Python 3 (ipykernel)",
   "language": "python",
   "name": "python3"
  },
  "language_info": {
   "codemirror_mode": {
    "name": "ipython",
    "version": 3
   },
   "file_extension": ".py",
   "mimetype": "text/x-python",
   "name": "python",
   "nbconvert_exporter": "python",
   "pygments_lexer": "ipython3",
   "version": "3.10.8"
  }
 },
 "nbformat": 4,
 "nbformat_minor": 5
}
